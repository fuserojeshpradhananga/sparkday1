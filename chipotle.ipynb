{
 "cells": [
  {
   "cell_type": "markdown",
   "metadata": {},
   "source": [
    "# Ex1 - Getting and Knowing your Data"
   ]
  },
  {
   "cell_type": "markdown",
   "metadata": {},
   "source": [
    "\n",
    "### Step 1: Initialize PySpark Session\n",
    "\n"
   ]
  },
  {
   "cell_type": "code",
   "execution_count": 28,
   "metadata": {},
   "outputs": [
    {
     "name": "stderr",
     "output_type": "stream",
     "text": [
      "23/08/29 16:39:46 WARN SparkSession: Using an existing Spark session; only runtime SQL configurations will take effect.\n"
     ]
    }
   ],
   "source": [
    "from pyspark.sql import SparkSession\n",
    "\n",
    "# Create a Spark session\n",
    "spark = SparkSession.builder.appName(\"Day1\").getOrCreate()\n"
   ]
  },
  {
   "cell_type": "markdown",
   "metadata": {},
   "source": [
    "### Step 2: Load the Dataset"
   ]
  },
  {
   "cell_type": "code",
   "execution_count": 29,
   "metadata": {},
   "outputs": [],
   "source": [
    "# Load the Chipotle dataset into a Spark DataFrame\n",
    "data_path = './chipotle.csv' # Replace with the actual path\n",
    "df = spark.read.csv(data_path, header=True, inferSchema=True)\n"
   ]
  },
  {
   "cell_type": "code",
   "execution_count": 12,
   "metadata": {},
   "outputs": [],
   "source": [
    "csv_file_path = \"./chipotle.csv\"\n",
    "df = spark.read.csv(csv_file_path, header=True, inferSchema=True, sep=\"\\t\")"
   ]
  },
  {
   "cell_type": "markdown",
   "metadata": {},
   "source": [
    "### Step 3. Get an overview of the DataFrame:\n"
   ]
  },
  {
   "cell_type": "code",
   "execution_count": 30,
   "metadata": {},
   "outputs": [
    {
     "name": "stdout",
     "output_type": "stream",
     "text": [
      "Sample data:\n",
      "+---+--------+--------+--------------------+--------------------+----------+\n",
      "|_c0|order_id|quantity|           item_name|  choice_description|item_price|\n",
      "+---+--------+--------+--------------------+--------------------+----------+\n",
      "|  0|       1|       1|Chips and Fresh T...|                null|    $2.39 |\n",
      "|  1|       1|       1|                Izze|        [Clementine]|    $3.39 |\n",
      "|  2|       1|       1|    Nantucket Nectar|             [Apple]|    $3.39 |\n",
      "|  3|       1|       1|Chips and Tomatil...|                null|    $2.39 |\n",
      "|  4|       2|       2|        Chicken Bowl|[Tomatillo-Red Ch...|   $16.98 |\n",
      "|  5|       3|       1|        Chicken Bowl|[Fresh Tomato Sal...|   $10.98 |\n",
      "|  6|       3|       1|       Side of Chips|                null|    $1.69 |\n",
      "|  7|       4|       1|       Steak Burrito|[Tomatillo Red Ch...|   $11.75 |\n",
      "|  8|       4|       1|    Steak Soft Tacos|[Tomatillo Green ...|    $9.25 |\n",
      "|  9|       5|       1|       Steak Burrito|[Fresh Tomato Sal...|    $9.25 |\n",
      "| 10|       5|       1| Chips and Guacamole|                null|    $4.45 |\n",
      "| 11|       6|       1|Chicken Crispy Tacos|[Roasted Chili Co...|    $8.75 |\n",
      "| 12|       6|       1|  Chicken Soft Tacos|[Roasted Chili Co...|    $8.75 |\n",
      "| 13|       7|       1|        Chicken Bowl|[Fresh Tomato Sal...|   $11.25 |\n",
      "| 14|       7|       1| Chips and Guacamole|                null|    $4.45 |\n",
      "| 15|       8|       1|Chips and Tomatil...|                null|    $2.39 |\n",
      "| 16|       8|       1|     Chicken Burrito|[Tomatillo-Green ...|    $8.49 |\n",
      "| 17|       9|       1|     Chicken Burrito|[Fresh Tomato Sal...|    $8.49 |\n",
      "| 18|       9|       2|         Canned Soda|            [Sprite]|    $2.18 |\n",
      "| 19|      10|       1|        Chicken Bowl|[Tomatillo Red Ch...|    $8.75 |\n",
      "+---+--------+--------+--------------------+--------------------+----------+\n",
      "only showing top 20 rows\n",
      "\n"
     ]
    },
    {
     "name": "stderr",
     "output_type": "stream",
     "text": [
      "23/08/29 16:39:54 WARN CSVHeaderChecker: CSV header does not conform to the schema.\n",
      " Header: , order_id, quantity, item_name, choice_description, item_price\n",
      " Schema: _c0, order_id, quantity, item_name, choice_description, item_price\n",
      "Expected: _c0 but found: \n",
      "CSV file: file:///home/rojesh/Documents/spark_training/chipotle.csv\n"
     ]
    }
   ],
   "source": [
    "#displaying sample fo dataframe using show() method\n",
    "\n",
    "print(\"Sample data:\")\n",
    "df.show()\n"
   ]
  },
  {
   "cell_type": "code",
   "execution_count": 31,
   "metadata": {},
   "outputs": [
    {
     "name": "stdout",
     "output_type": "stream",
     "text": [
      "DataFrame schema:\n",
      "root\n",
      " |-- _c0: integer (nullable = true)\n",
      " |-- order_id: integer (nullable = true)\n",
      " |-- quantity: integer (nullable = true)\n",
      " |-- item_name: string (nullable = true)\n",
      " |-- choice_description: string (nullable = true)\n",
      " |-- item_price: string (nullable = true)\n",
      "\n"
     ]
    }
   ],
   "source": [
    "#print the schema of the dataframe to see the datatype of each column\n",
    "\n",
    "print(\"DataFrame schema:\")\n",
    "df.printSchema()\n"
   ]
  },
  {
   "cell_type": "code",
   "execution_count": 32,
   "metadata": {},
   "outputs": [
    {
     "name": "stdout",
     "output_type": "stream",
     "text": [
      "+---+--------+--------+--------------------+--------------------+----------+\n",
      "|_c0|order_id|quantity|           item_name|  choice_description|item_price|\n",
      "+---+--------+--------+--------------------+--------------------+----------+\n",
      "|  0|       1|       1|Chips and Fresh T...|                null|    $2.39 |\n",
      "|  1|       1|       1|                Izze|        [Clementine]|    $3.39 |\n",
      "|  2|       1|       1|    Nantucket Nectar|             [Apple]|    $3.39 |\n",
      "|  3|       1|       1|Chips and Tomatil...|                null|    $2.39 |\n",
      "|  4|       2|       2|        Chicken Bowl|[Tomatillo-Red Ch...|   $16.98 |\n",
      "+---+--------+--------+--------------------+--------------------+----------+\n",
      "only showing top 5 rows\n",
      "\n"
     ]
    },
    {
     "name": "stderr",
     "output_type": "stream",
     "text": [
      "23/08/29 16:40:01 WARN CSVHeaderChecker: CSV header does not conform to the schema.\n",
      " Header: , order_id, quantity, item_name, choice_description, item_price\n",
      " Schema: _c0, order_id, quantity, item_name, choice_description, item_price\n",
      "Expected: _c0 but found: \n",
      "CSV file: file:///home/rojesh/Documents/spark_training/chipotle.csv\n"
     ]
    }
   ],
   "source": [
    "# Show the first five rows of the DataFrame\n",
    "df.show(5)\n"
   ]
  },
  {
   "cell_type": "markdown",
   "metadata": {},
   "source": [
    "Step 4. Calculate basic statistics "
   ]
  },
  {
   "cell_type": "code",
   "execution_count": 33,
   "metadata": {},
   "outputs": [
    {
     "name": "stdout",
     "output_type": "stream",
     "text": [
      "Basic statistics for numeric columns:\n",
      "+-------+------------------+----------+\n",
      "|summary|          quantity|item_price|\n",
      "+-------+------------------+----------+\n",
      "|  count|              4622|      4622|\n",
      "|   mean|1.0757247944612722|      null|\n",
      "| stddev|0.4101863342575333|      null|\n",
      "|    min|                 1|    $1.09 |\n",
      "|    max|                15|    $9.39 |\n",
      "+-------+------------------+----------+\n",
      "\n"
     ]
    }
   ],
   "source": [
    "# Calculate basic statistics for numeric columns\n",
    "numeric_stats = df.describe([\"quantity\", \"item_price\"])\n",
    "\n",
    "# Show the basic statistics\n",
    "print(\"Basic statistics for numeric columns:\")\n",
    "numeric_stats.show()\n"
   ]
  },
  {
   "cell_type": "markdown",
   "metadata": {},
   "source": [
    "### Step 5. What is the number of observations in the dataset?"
   ]
  },
  {
   "cell_type": "code",
   "execution_count": 34,
   "metadata": {},
   "outputs": [
    {
     "name": "stdout",
     "output_type": "stream",
     "text": [
      "Number of observations: 4622\n"
     ]
    }
   ],
   "source": [
    "# Get the number of observations in the dataset\n",
    "num_observations = df.count()\n",
    "print(f\"Number of observations: {num_observations}\")\n"
   ]
  },
  {
   "cell_type": "markdown",
   "metadata": {},
   "source": [
    "### Step 6. What is the number of columns in the dataset?"
   ]
  },
  {
   "cell_type": "code",
   "execution_count": 35,
   "metadata": {},
   "outputs": [
    {
     "name": "stdout",
     "output_type": "stream",
     "text": [
      "Number of columns: 6\n"
     ]
    }
   ],
   "source": [
    "# Get the number of columns in the dataset\n",
    "num_columns = len(df.columns)\n",
    "print(f\"Number of columns: {num_columns}\")\n"
   ]
  },
  {
   "cell_type": "markdown",
   "metadata": {},
   "source": [
    "### Step 7. Print the name of all the columns.\n",
    "\n"
   ]
  },
  {
   "cell_type": "code",
   "execution_count": 36,
   "metadata": {},
   "outputs": [
    {
     "name": "stdout",
     "output_type": "stream",
     "text": [
      "Column Names: ['_c0', 'order_id', 'quantity', 'item_name', 'choice_description', 'item_price']\n"
     ]
    }
   ],
   "source": [
    "# Print the names of all the columns\n",
    "column_names = df.columns\n",
    "print(\"Column Names:\", column_names)\n"
   ]
  },
  {
   "cell_type": "code",
   "execution_count": null,
   "metadata": {},
   "outputs": [],
   "source": []
  }
 ],
 "metadata": {
  "kernelspec": {
   "display_name": "Python 3",
   "language": "python",
   "name": "python3"
  },
  "language_info": {
   "codemirror_mode": {
    "name": "ipython",
    "version": 3
   },
   "file_extension": ".py",
   "mimetype": "text/x-python",
   "name": "python",
   "nbconvert_exporter": "python",
   "pygments_lexer": "ipython3",
   "version": "3.10.12"
  },
  "orig_nbformat": 4
 },
 "nbformat": 4,
 "nbformat_minor": 2
}
