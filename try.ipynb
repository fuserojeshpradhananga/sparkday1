{
 "cells": [
  {
   "cell_type": "code",
   "execution_count": 4,
   "metadata": {},
   "outputs": [],
   "source": [
    "from pyspark.sql import SparkSession\n",
    "from pyspark.sql.types import StructType, StructField, StringType, IntegerType\n"
   ]
  },
  {
   "cell_type": "code",
   "execution_count": 6,
   "metadata": {},
   "outputs": [
    {
     "name": "stderr",
     "output_type": "stream",
     "text": [
      "23/08/29 11:52:47 WARN Utils: Your hostname, rojesh-Predator-PHN16-71 resolves to a loopback address: 127.0.1.1; using 172.16.5.57 instead (on interface wlp0s20f3)\n",
      "23/08/29 11:52:47 WARN Utils: Set SPARK_LOCAL_IP if you need to bind to another address\n",
      "Setting default log level to \"WARN\".\n",
      "To adjust logging level use sc.setLogLevel(newLevel). For SparkR, use setLogLevel(newLevel).\n",
      "23/08/29 11:52:48 WARN NativeCodeLoader: Unable to load native-hadoop library for your platform... using builtin-java classes where applicable\n",
      "23/08/29 11:52:48 WARN Utils: Service 'SparkUI' could not bind on port 4040. Attempting port 4041.\n",
      "23/08/29 11:52:48 WARN Utils: Service 'SparkUI' could not bind on port 4041. Attempting port 4042.\n"
     ]
    }
   ],
   "source": [
    "spark = SparkSession.builder.appName(\"PySparkDemo\").getOrCreate()"
   ]
  },
  {
   "cell_type": "code",
   "execution_count": 8,
   "metadata": {},
   "outputs": [],
   "source": [
    "# Define the schema for the DataFrame\n",
    "schema = StructType([\n",
    "StructField(\"Name\", StringType(), True),\n",
    "StructField(\"Age\", IntegerType(), True),\n",
    "StructField(\"Gender\", StringType(), True),\n",
    "StructField(\"Salary\", IntegerType(), True)\n",
    "])\n"
   ]
  },
  {
   "cell_type": "code",
   "execution_count": 9,
   "metadata": {},
   "outputs": [],
   "source": [
    "# Create a DataFrame\n",
    "data = [\n",
    "(\"Alice\", 28, \"Female\", 60000),\n",
    "(\"Bob\", 35, \"Male\", 75000),\n",
    "(\"Charlie\", 22, \"Male\", 50000),\n",
    "(\"Diana\", 31, \"Female\", 80000)\n",
    "]\n",
    "df = spark.createDataFrame(data, schema=schema)"
   ]
  },
  {
   "cell_type": "code",
   "execution_count": 10,
   "metadata": {},
   "outputs": [
    {
     "name": "stderr",
     "output_type": "stream",
     "text": [
      "                                                                                \r"
     ]
    },
    {
     "name": "stdout",
     "output_type": "stream",
     "text": [
      "+-------+---+------+------+\n",
      "|   Name|Age|Gender|Salary|\n",
      "+-------+---+------+------+\n",
      "|  Alice| 28|Female| 60000|\n",
      "|    Bob| 35|  Male| 75000|\n",
      "|Charlie| 22|  Male| 50000|\n",
      "|  Diana| 31|Female| 80000|\n",
      "+-------+---+------+------+\n",
      "\n"
     ]
    }
   ],
   "source": [
    "df.show()"
   ]
  },
  {
   "cell_type": "code",
   "execution_count": 11,
   "metadata": {},
   "outputs": [
    {
     "name": "stdout",
     "output_type": "stream",
     "text": [
      "Sample data:\n",
      "+-------+---+------+------+\n",
      "|   Name|Age|Gender|Salary|\n",
      "+-------+---+------+------+\n",
      "|  Alice| 28|Female| 60000|\n",
      "|    Bob| 35|  Male| 75000|\n",
      "|Charlie| 22|  Male| 50000|\n",
      "|  Diana| 31|Female| 80000|\n",
      "+-------+---+------+------+\n",
      "\n",
      "Transformed data:\n",
      "+------+-----------+--------+\n",
      "|Gender|avg(Salary)|max(Age)|\n",
      "+------+-----------+--------+\n",
      "|Female|    70000.0|      31|\n",
      "|  Male|    75000.0|      35|\n",
      "+------+-----------+--------+\n",
      "\n"
     ]
    }
   ],
   "source": [
    "# Show the DataFrame\n",
    "print(\"Sample data:\")\n",
    "df.show()\n",
    "\n",
    "\n",
    "# Perform transformations\n",
    "filtered_data = df.filter(df[\"Age\"] > 25)\n",
    "grouped_data = filtered_data.groupBy(\"Gender\").agg({\"Salary\": \"avg\", \"Age\": \"max\"})\n",
    "\n",
    "\n",
    "# Show transformed data\n",
    "print(\"Transformed data:\")\n",
    "grouped_data.show()"
   ]
  },
  {
   "cell_type": "code",
   "execution_count": null,
   "metadata": {},
   "outputs": [],
   "source": []
  }
 ],
 "metadata": {
  "kernelspec": {
   "display_name": "Python 3",
   "language": "python",
   "name": "python3"
  },
  "language_info": {
   "codemirror_mode": {
    "name": "ipython",
    "version": 3
   },
   "file_extension": ".py",
   "mimetype": "text/x-python",
   "name": "python",
   "nbconvert_exporter": "python",
   "pygments_lexer": "ipython3",
   "version": "3.10.12"
  },
  "orig_nbformat": 4
 },
 "nbformat": 4,
 "nbformat_minor": 2
}
